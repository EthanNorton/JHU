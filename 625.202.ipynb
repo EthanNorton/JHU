Prefix to Postfix Expressions
1. Base Converter
2. Integer Stack
3. Project0
4. Runtime Metric

PREFIX TO INFIX 
INFIX TO POSTFIX

Insert GUI

python.org library
docs.python.org
object-oriented filesystem paths 
general properties

#Input and Read the Characters line by line.
#Main = LAUNCH the program
import argparse
from pathlib import Path #this is a standard library
!pip install -Uqq ipdb
import ipdb

# This will store the stack and allow data enhancement for data clarity. 
stack = []

def prefixToInfix(expr):
  operators = {'+', '-', '*', '/', '$'} #This includes all operators that will be displayed in this lab.
# An additional error check in other cases beyond the above specified input would be to include other operators that are not shown in this input.
  #For example, other inputs could possibly utilize the operators @,^,!,=...
    #In this event, it would be important to edit the list of operators to fix this.
  expr = expr.split(" ")
  stack = deque()
  for i in range(len(expr)-1, -1, -1):
    symbol = expr[i]
    if symbol in operators:
     subexpr = f"({stack.pop()} {symbol} {stack.pop()})"
     stack.append(subexpr)
    else:
      stack.append(symbol)
  return stack.pop()

#This is the beginning of source code.
f = open('some_file.txt', 'r') #This reads the file.
f = Path('some_file.txt')
with f.open('r') as opened_file: #Looks at the file
    while True:
        char = opened_file.read(1) #Reads Characters
        if not char:
            print("End of file") 
            break
        elif char == '\n':
            print("----New Line----") #This ends the line of the stack
        else:
            print(f"Read this char: {char}")  #This displays the character in the given stack 
          #  f.replace(" ", "") .. attempting to replace the blank spaces


# Project 1


from collections import deque
from sys import stderr
from time import time_ns
from proj1.base_converter import BaseConverter
from proj1.runtime_metric import RuntimeMetric
from typing import TextIO


# 1. Base Converter

class BaseConverter: 

reverse = current_line.reversed()
  reversed = current_line[:-1]
reversed = reverse(current_line)
    for current_char in current_line:
      pass 
    current_line

#Prefix to Infix Converter
#Infix to Postfix Converter

#Reverse the order of the stacks
f = f[::-1]

# iterating individually 
for i in f:
    # specifically for operator tokens
    if i in operators:
      # push the elements to the top of the stack
      a = stack.push()
      b = stack.push()

      #combine them as operand1/ operand2 + operator
      temp = a+b+i
      stack.append(temp)

    # else if operand
    else:
      stack.append(i)
# print the final output
print(*stack)


# 1. Convert Prefixs Expression to Postfix Expressions.
# 2. Analysis
#  A. Implementation chosen and why? Why does a stack make sense?
#  B. Compare recursive solution to an iterative solution. 
# 3. Compare to 0 Lab work
# 4. Finish by 2/28 
# 5. name ENortonLab1.zip

Sources
1. https://www.youtube.com/watch?v=bMPEzrZ0sg0
2. 
