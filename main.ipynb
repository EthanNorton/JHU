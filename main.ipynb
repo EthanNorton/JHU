{
  "nbformat": 4,
  "nbformat_minor": 0,
  "metadata": {
    "colab": {
      "name": "Lab2.ipynb",
      "provenance": [],
      "mount_file_id": "1zGTpPND9VJdgO6AhT3RS6ZWk1RZl4F6c",
      "authorship_tag": "ABX9TyMOYn3XShXN6RG9HLzjCTZz",
      "include_colab_link": true
    },
    "kernelspec": {
      "name": "python3",
      "display_name": "Python 3"
    },
    "language_info": {
      "name": "python"
    }
  },
  "cells": [
    {
      "cell_type": "markdown",
      "metadata": {
        "id": "view-in-github",
        "colab_type": "text"
      },
      "source": [
        "<a href=\"https://colab.research.google.com/github/EthanNorton/JHU/blob/proj2/main.ipynb\" target=\"_parent\"><img src=\"https://colab.research.google.com/assets/colab-badge.svg\" alt=\"Open In Colab\"/></a>"
      ]
    },
    {
      "cell_type": "code",
      "execution_count": null,
      "metadata": {
        "id": "1-fzlKXpMZlZ"
      },
      "outputs": [],
      "source": [
        ""
      ]
    }
  ]
}